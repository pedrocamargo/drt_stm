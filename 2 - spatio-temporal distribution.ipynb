{
 "cells": [
  {
   "cell_type": "code",
   "execution_count": 1,
   "metadata": {},
   "outputs": [],
   "source": [
    "import os\n",
    "import numpy as np\n",
    "import pandas as pd\n",
    "import geopandas as gpd\n",
    "import sys\n",
    "import random\n",
    "import logging as logger\n",
    "import sqlite3"
   ]
  },
  {
   "cell_type": "code",
   "execution_count": 2,
   "metadata": {},
   "outputs": [],
   "source": [
    "logger.basicConfig(format='%(asctime)s %(levelname)-8s %(message)s',\n",
    "                   level=logger.INFO,\n",
    "                   datefmt='%Y-%m-%d %H:%M:%S')"
   ]
  },
  {
   "cell_type": "code",
   "execution_count": 3,
   "metadata": {},
   "outputs": [],
   "source": [
    "fldr = \"C:/D/Projects/Vancouver\"\n",
    "outdb = sqlite3.connect(os.path.join(fldr, 'trip_table.sqlite'))"
   ]
  },
  {
   "cell_type": "markdown",
   "metadata": {},
   "source": [
    "All geo layers for the STM were imported to a single Geopackage"
   ]
  },
  {
   "cell_type": "code",
   "execution_count": 4,
   "metadata": {},
   "outputs": [],
   "source": [
    "nodelyr = sqlite3.connect(os.path.join(fldr, \"Network/prepared_layer.gpkg\"))\n",
    "nds = pd.read_sql_query(\"SELECT fid, taz FROM nodes where pt_only=0\", nodelyr)\n",
    "tazs = {}\n",
    "for taz in nds.taz.unique():\n",
    "    tazs[taz] = nds[nds.taz==taz].fid.tolist()"
   ]
  },
  {
   "cell_type": "markdown",
   "metadata": {},
   "source": [
    "Get the trips from the trip table"
   ]
  },
  {
   "cell_type": "code",
   "execution_count": 5,
   "metadata": {},
   "outputs": [
    {
     "name": "stdout",
     "output_type": "stream",
     "text": [
      "Wall time: 6.24 s\n"
     ]
    }
   ],
   "source": [
    "%%time\n",
    "df = pd.read_sql_query(\"SELECT * FROM trips\", outdb)\n",
    "df.drop(['index'], axis=1, inplace=True)"
   ]
  },
  {
   "cell_type": "code",
   "execution_count": 6,
   "metadata": {},
   "outputs": [],
   "source": [
    "def get_zone(taz, tazs):\n",
    "    if taz not in tazs:\n",
    "        return -1\n",
    "    return random.choice(tazs[taz])"
   ]
  },
  {
   "cell_type": "code",
   "execution_count": 7,
   "metadata": {},
   "outputs": [
    {
     "name": "stdout",
     "output_type": "stream",
     "text": [
      "Wall time: 1min 15s\n"
     ]
    }
   ],
   "source": [
    "%%time\n",
    "df = df.assign(from_node=-1)\n",
    "df = df.assign(to_node=-1)\n",
    "\n",
    "df['from_node'] = df.apply(lambda row: get_zone(row['rows'], tazs), axis=1)\n",
    "df['to_node'] = df.apply(lambda row: get_zone(row['cols'], tazs), axis=1)"
   ]
  },
  {
   "cell_type": "code",
   "execution_count": 8,
   "metadata": {},
   "outputs": [],
   "source": [
    "time_profile = pd.read_csv(os.path.join(fldr, 'nhts/dtc_dist.csv'))\n",
    "distributions = {}"
   ]
  },
  {
   "cell_type": "code",
   "execution_count": 9,
   "metadata": {
    "code_folding": [],
    "scrolled": true
   },
   "outputs": [],
   "source": [
    "# AM distribution\n",
    "am_dist = time_profile[450:510]\n",
    "am_dist = am_dist.cumsum()[['WTTRDFIN']]\n",
    "am_dist.WTTRDFIN /= am_dist.WTTRDFIN.max()\n",
    "distributions['Am'] = am_dist"
   ]
  },
  {
   "cell_type": "code",
   "execution_count": 10,
   "metadata": {
    "code_folding": [
     0
    ]
   },
   "outputs": [],
   "source": [
    "# MD distribution\n",
    "md_dist = time_profile[720:780]\n",
    "md_dist = md_dist.cumsum()[['WTTRDFIN']]\n",
    "md_dist.WTTRDFIN /= md_dist.WTTRDFIN.max()\n",
    "distributions['Md'] = md_dist"
   ]
  },
  {
   "cell_type": "code",
   "execution_count": 11,
   "metadata": {
    "code_folding": [
     0
    ]
   },
   "outputs": [],
   "source": [
    "# PM distribution\n",
    "pm_dist = time_profile[990:1050]\n",
    "pm_dist = pm_dist.cumsum()[['WTTRDFIN']]\n",
    "pm_dist.WTTRDFIN /= pm_dist.WTTRDFIN.max()\n",
    "distributions['Pm'] = pm_dist"
   ]
  },
  {
   "cell_type": "code",
   "execution_count": 12,
   "metadata": {
    "code_folding": []
   },
   "outputs": [],
   "source": [
    "def get_exact_time(mat_class, distributions):\n",
    "    period = mat_class[-2:]\n",
    "    dist = distributions[period]\n",
    "    rdn = np.random.rand(1)[0]\n",
    "    return dist.index[np.argmax(dist.WTTRDFIN.values>rdn)] + np.random.rand(1)[0]"
   ]
  },
  {
   "cell_type": "code",
   "execution_count": 13,
   "metadata": {},
   "outputs": [
    {
     "name": "stdout",
     "output_type": "stream",
     "text": [
      "Wall time: 1min 41s\n"
     ]
    }
   ],
   "source": [
    "%%time\n",
    "df = df.assign(departure_minute=-1)\n",
    "df['departure_minute'] = df.apply(lambda row: get_exact_time(row['class'], distributions), axis=1)"
   ]
  },
  {
   "cell_type": "code",
   "execution_count": 14,
   "metadata": {},
   "outputs": [],
   "source": [
    "df.to_sql('distributed_trips', outdb, if_exists='replace')"
   ]
  }
 ],
 "metadata": {
  "kernelspec": {
   "display_name": "Python 3",
   "language": "python",
   "name": "python3"
  },
  "language_info": {
   "codemirror_mode": {
    "name": "ipython",
    "version": 3
   },
   "file_extension": ".py",
   "mimetype": "text/x-python",
   "name": "python",
   "nbconvert_exporter": "python",
   "pygments_lexer": "ipython3",
   "version": "3.7.3"
  }
 },
 "nbformat": 4,
 "nbformat_minor": 2
}
