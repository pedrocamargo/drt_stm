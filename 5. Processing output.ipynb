{
 "cells": [
  {
   "cell_type": "code",
   "execution_count": 1,
   "metadata": {},
   "outputs": [],
   "source": [
    "import sqlite3\n",
    "import pandas as pd\n",
    "import numpy as np\n",
    "import pyproj as _proj\n",
    "from  os.path import join"
   ]
  },
  {
   "cell_type": "markdown",
   "metadata": {},
   "source": [
    "## Collect the DRT results for simulation"
   ]
  },
  {
   "cell_type": "code",
   "execution_count": 3,
   "metadata": {},
   "outputs": [],
   "source": [
    "fldr = '/media/pedro/storage/GDrive/DATA/Pedro/Professional/VLC/Projects/Vancouver/'"
   ]
  },
  {
   "cell_type": "code",
   "execution_count": 4,
   "metadata": {},
   "outputs": [],
   "source": [
    "results = sqlite3.connect(join(fldr, 'SIMULATIONS/trunk and feeder/bus_passengers_3-0-10.sqlite'))\n",
    "pax_qry = 'select * from passengers'\n",
    "traces_qry = 'select * from vehicle_traces'\n",
    "events_qry = 'select * from events'"
   ]
  },
  {
   "cell_type": "markdown",
   "metadata": {},
   "source": [
    "### Vehicle traces"
   ]
  },
  {
   "cell_type": "code",
   "execution_count": 5,
   "metadata": {},
   "outputs": [
    {
     "name": "stdout",
     "output_type": "stream",
     "text": [
      "CPU times: user 1.94 s, sys: 132 ms, total: 2.07 s\n",
      "Wall time: 2.07 s\n"
     ]
    }
   ],
   "source": [
    "%%time\n",
    "traces = pd.read_sql(traces_qry, results)"
   ]
  },
  {
   "cell_type": "code",
   "execution_count": 414,
   "metadata": {},
   "outputs": [],
   "source": [
    "nodelyr = sqlite3.connect(join(fldr, \"Network/final_layer.gpkg\"))\n",
    "nds = pd.read_sql_query(\"SELECT fid, X, Y FROM nodes where pt_only=0\", nodelyr)\n",
    "\n",
    "# NEED TO TRANSFORM THE COORDINATES TO 385\n",
    "# Already was in this case\n",
    "source_crs = _proj.Proj(init='EPSG:4326')\n",
    "cityphi_crs = _proj.Proj(init='EPSG:3857')\n"
   ]
  },
  {
   "cell_type": "code",
   "execution_count": 415,
   "metadata": {},
   "outputs": [],
   "source": [
    "x = np.zeros(nds.fid.max()+1)\n",
    "x[nds.fid] = nds.X\n",
    "y = np.zeros(nds.fid.max()+1)\n",
    "y[nds.fid] = nds.Y\n",
    "\n",
    "nds = nds.assign(Z=0)\n",
    "# Transformation would come here\n",
    "# x, y = _proj.transform(source_crs, cityphi_crs, x, y)\n",
    "\n",
    "vu = traces.vehicle_id.unique()\n",
    "veh_ids = pd.DataFrame({'vehicle_id': vu, 'trip_id': np.arange(len(vu))+100000})"
   ]
  },
  {
   "cell_type": "code",
   "execution_count": 313,
   "metadata": {},
   "outputs": [],
   "source": []
  },
  {
   "cell_type": "code",
   "execution_count": 416,
   "metadata": {},
   "outputs": [
    {
     "name": "stdout",
     "output_type": "stream",
     "text": [
      "Wall time: 2.72 s\n"
     ]
    }
   ],
   "source": [
    "%%time\n",
    "traces = traces.assign(x=x[traces.node_id])\n",
    "traces = traces.assign(y=y[traces.node_id])\n",
    "traces = traces.assign(minute=traces.instant / 60)\n",
    "traces = traces.assign(z=0)\n",
    "\n",
    "# Actual vehicle IDs\n",
    "traces = traces.merge(veh_ids, on='vehicle_id')\n",
    "# traces = traces.assign(trip_id=np.arange(traces.shape[0]) + 1)"
   ]
  },
  {
   "cell_type": "markdown",
   "metadata": {},
   "source": [
    "Make all vehicles static after last dropoff"
   ]
  },
  {
   "cell_type": "code",
   "execution_count": 417,
   "metadata": {
    "scrolled": true
   },
   "outputs": [],
   "source": [
    "stay = traces.groupby('vehicle_id').last().reset_index()\n",
    "stay.minute = 24 * 60\n",
    "stay.task = 5\n",
    "traces = pd.concat([traces, stay])"
   ]
  },
  {
   "cell_type": "code",
   "execution_count": 151,
   "metadata": {},
   "outputs": [],
   "source": [
    "# traces.head()"
   ]
  },
  {
   "cell_type": "markdown",
   "metadata": {},
   "source": [
    "People waiting to be picked up"
   ]
  },
  {
   "cell_type": "code",
   "execution_count": 418,
   "metadata": {},
   "outputs": [
    {
     "name": "stdout",
     "output_type": "stream",
     "text": [
      "Wall time: 750 ms\n"
     ]
    }
   ],
   "source": [
    "%%time\n",
    "passengers = pd.read_sql(pax_qry, results)"
   ]
  },
  {
   "cell_type": "code",
   "execution_count": 419,
   "metadata": {},
   "outputs": [
    {
     "name": "stdout",
     "output_type": "stream",
     "text": [
      "Wall time: 141 ms\n"
     ]
    }
   ],
   "source": [
    "%%time\n",
    "passengers = passengers.assign(appeared=passengers.required_pickup / 60)\n",
    "passengers = passengers.assign(serviced=passengers.actual_pickup / 60)\n",
    "passengers = passengers.assign(pax_id=np.arange(passengers.shape[0]) + 1)\n",
    "passengers = passengers.assign(from_x=x[passengers.origin])\n",
    "passengers = passengers.assign(from_y=y[passengers.origin])\n",
    "passengers = passengers.assign(z=0)\n"
   ]
  },
  {
   "cell_type": "code",
   "execution_count": 420,
   "metadata": {},
   "outputs": [
    {
     "data": {
      "text/html": [
       "<div>\n",
       "<style scoped>\n",
       "    .dataframe tbody tr th:only-of-type {\n",
       "        vertical-align: middle;\n",
       "    }\n",
       "\n",
       "    .dataframe tbody tr th {\n",
       "        vertical-align: top;\n",
       "    }\n",
       "\n",
       "    .dataframe thead th {\n",
       "        text-align: right;\n",
       "    }\n",
       "</style>\n",
       "<table border=\"1\" class=\"dataframe\">\n",
       "  <thead>\n",
       "    <tr style=\"text-align: right;\">\n",
       "      <th></th>\n",
       "      <th>id</th>\n",
       "      <th>origin</th>\n",
       "      <th>destination</th>\n",
       "      <th>group_size</th>\n",
       "      <th>required_pickup</th>\n",
       "      <th>actual_pickup</th>\n",
       "      <th>expected_travel_time</th>\n",
       "      <th>actual_travel_time</th>\n",
       "      <th>ideal_arrival_time</th>\n",
       "      <th>actual_arrival_time</th>\n",
       "      <th>extra_stops</th>\n",
       "      <th>appeared</th>\n",
       "      <th>serviced</th>\n",
       "      <th>pax_id</th>\n",
       "      <th>from_x</th>\n",
       "      <th>from_y</th>\n",
       "      <th>z</th>\n",
       "    </tr>\n",
       "  </thead>\n",
       "  <tbody>\n",
       "    <tr>\n",
       "      <th>0</th>\n",
       "      <td>8c02399d-2290-4f85-a9a4-40a87f1e</td>\n",
       "      <td>8046</td>\n",
       "      <td>3119</td>\n",
       "      <td>1</td>\n",
       "      <td>5509.448</td>\n",
       "      <td>5509.448242</td>\n",
       "      <td>132.890790</td>\n",
       "      <td>192.891006</td>\n",
       "      <td>5642.338790</td>\n",
       "      <td>5702.339249</td>\n",
       "      <td>0</td>\n",
       "      <td>91.824133</td>\n",
       "      <td>91.824137</td>\n",
       "      <td>1</td>\n",
       "      <td>-1.366346e+07</td>\n",
       "      <td>6.293200e+06</td>\n",
       "      <td>0</td>\n",
       "    </tr>\n",
       "    <tr>\n",
       "      <th>1</th>\n",
       "      <td>0873b31c-4051-4a7a-a0c5-740842e7</td>\n",
       "      <td>1801</td>\n",
       "      <td>7832</td>\n",
       "      <td>1</td>\n",
       "      <td>5473.007</td>\n",
       "      <td>5473.006836</td>\n",
       "      <td>239.845638</td>\n",
       "      <td>299.845993</td>\n",
       "      <td>5712.852638</td>\n",
       "      <td>5772.852829</td>\n",
       "      <td>0</td>\n",
       "      <td>91.216783</td>\n",
       "      <td>91.216781</td>\n",
       "      <td>2</td>\n",
       "      <td>-1.364363e+07</td>\n",
       "      <td>6.308131e+06</td>\n",
       "      <td>0</td>\n",
       "    </tr>\n",
       "    <tr>\n",
       "      <th>2</th>\n",
       "      <td>33c0655c-c8c1-4ee1-a8da-1c9da773</td>\n",
       "      <td>1951</td>\n",
       "      <td>7284</td>\n",
       "      <td>1</td>\n",
       "      <td>5419.766</td>\n",
       "      <td>5503.528802</td>\n",
       "      <td>281.942904</td>\n",
       "      <td>341.942993</td>\n",
       "      <td>5701.708904</td>\n",
       "      <td>5845.471795</td>\n",
       "      <td>0</td>\n",
       "      <td>90.329433</td>\n",
       "      <td>91.725480</td>\n",
       "      <td>3</td>\n",
       "      <td>-1.366893e+07</td>\n",
       "      <td>6.303773e+06</td>\n",
       "      <td>0</td>\n",
       "    </tr>\n",
       "    <tr>\n",
       "      <th>3</th>\n",
       "      <td>e06d0343-32be-4526-a558-ece9d16a</td>\n",
       "      <td>6792</td>\n",
       "      <td>4828</td>\n",
       "      <td>1</td>\n",
       "      <td>5566.570</td>\n",
       "      <td>5582.417470</td>\n",
       "      <td>225.691170</td>\n",
       "      <td>285.690994</td>\n",
       "      <td>5792.261170</td>\n",
       "      <td>5868.108464</td>\n",
       "      <td>0</td>\n",
       "      <td>92.776167</td>\n",
       "      <td>93.040291</td>\n",
       "      <td>4</td>\n",
       "      <td>-1.370390e+07</td>\n",
       "      <td>6.323098e+06</td>\n",
       "      <td>0</td>\n",
       "    </tr>\n",
       "    <tr>\n",
       "      <th>4</th>\n",
       "      <td>aa2c3e96-74bc-4381-a294-44fa165e</td>\n",
       "      <td>4078</td>\n",
       "      <td>4098</td>\n",
       "      <td>1</td>\n",
       "      <td>5528.253</td>\n",
       "      <td>5528.252930</td>\n",
       "      <td>301.732632</td>\n",
       "      <td>361.733002</td>\n",
       "      <td>5829.985632</td>\n",
       "      <td>5889.985931</td>\n",
       "      <td>0</td>\n",
       "      <td>92.137550</td>\n",
       "      <td>92.137549</td>\n",
       "      <td>5</td>\n",
       "      <td>-1.370687e+07</td>\n",
       "      <td>6.299427e+06</td>\n",
       "      <td>0</td>\n",
       "    </tr>\n",
       "  </tbody>\n",
       "</table>\n",
       "</div>"
      ],
      "text/plain": [
       "                                 id  origin  destination  group_size  \\\n",
       "0  8c02399d-2290-4f85-a9a4-40a87f1e    8046         3119           1   \n",
       "1  0873b31c-4051-4a7a-a0c5-740842e7    1801         7832           1   \n",
       "2  33c0655c-c8c1-4ee1-a8da-1c9da773    1951         7284           1   \n",
       "3  e06d0343-32be-4526-a558-ece9d16a    6792         4828           1   \n",
       "4  aa2c3e96-74bc-4381-a294-44fa165e    4078         4098           1   \n",
       "\n",
       "   required_pickup  actual_pickup  expected_travel_time  actual_travel_time  \\\n",
       "0         5509.448    5509.448242            132.890790          192.891006   \n",
       "1         5473.007    5473.006836            239.845638          299.845993   \n",
       "2         5419.766    5503.528802            281.942904          341.942993   \n",
       "3         5566.570    5582.417470            225.691170          285.690994   \n",
       "4         5528.253    5528.252930            301.732632          361.733002   \n",
       "\n",
       "   ideal_arrival_time  actual_arrival_time  extra_stops   appeared   serviced  \\\n",
       "0         5642.338790          5702.339249            0  91.824133  91.824137   \n",
       "1         5712.852638          5772.852829            0  91.216783  91.216781   \n",
       "2         5701.708904          5845.471795            0  90.329433  91.725480   \n",
       "3         5792.261170          5868.108464            0  92.776167  93.040291   \n",
       "4         5829.985632          5889.985931            0  92.137550  92.137549   \n",
       "\n",
       "   pax_id        from_x        from_y  z  \n",
       "0       1 -1.366346e+07  6.293200e+06  0  \n",
       "1       2 -1.364363e+07  6.308131e+06  0  \n",
       "2       3 -1.366893e+07  6.303773e+06  0  \n",
       "3       4 -1.370390e+07  6.323098e+06  0  \n",
       "4       5 -1.370687e+07  6.299427e+06  0  "
      ]
     },
     "execution_count": 420,
     "metadata": {},
     "output_type": "execute_result"
    }
   ],
   "source": [
    "passengers.head()"
   ]
  },
  {
   "cell_type": "code",
   "execution_count": 421,
   "metadata": {},
   "outputs": [],
   "source": [
    "results.close()"
   ]
  },
  {
   "cell_type": "markdown",
   "metadata": {},
   "source": [
    "## Do we need to make any transformations on the data?"
   ]
  },
  {
   "cell_type": "code",
   "execution_count": null,
   "metadata": {},
   "outputs": [],
   "source": [
    "# Maybe"
   ]
  },
  {
   "cell_type": "markdown",
   "metadata": {},
   "source": [
    "# We start the CityPhi work"
   ]
  },
  {
   "cell_type": "markdown",
   "metadata": {},
   "source": [
    "### Start CityPhi\n",
    "* Cannot be done over RDP with GTX or RTX GPUs"
   ]
  },
  {
   "cell_type": "code",
   "execution_count": 1,
   "metadata": {},
   "outputs": [],
   "source": [
    "import cityphi.application\n",
    "%gui cityphi\n",
    "app = cityphi.application.Application()\n",
    "import cityphi.feature as _feat"
   ]
  },
  {
   "cell_type": "code",
   "execution_count": 364,
   "metadata": {},
   "outputs": [],
   "source": [
    "import cityphi.widget as _widget\n",
    "import cityphi.attribute as _att\n",
    "import cityphi.layer as _layer\n",
    "import cityphi.parameter as _param"
   ]
  },
  {
   "cell_type": "markdown",
   "metadata": {},
   "source": [
    "### Builds the trace points  layer"
   ]
  },
  {
   "cell_type": "code",
   "execution_count": 437,
   "metadata": {},
   "outputs": [],
   "source": [
    "tr = traces.sort_values(by=['trip_id', 'minute'])\n",
    "vehicle_trip_ids = tr.trip_id.values\n",
    "vehicle_points = tr[[\"x\", \"y\", \"z\"]].values\n",
    "vehicle_times = tr.minute.values\n",
    "occupancy = tr.occupancy.values.astype(np.float32) + 1\n",
    "occupancy = occupancy * occupancy"
   ]
  },
  {
   "cell_type": "code",
   "execution_count": 438,
   "metadata": {},
   "outputs": [],
   "source": [
    "vehicle_feature = _feat.TrajectoryFeature(vehicle_trip_ids, vehicle_points, vehicle_times)"
   ]
  },
  {
   "cell_type": "code",
   "execution_count": 439,
   "metadata": {},
   "outputs": [],
   "source": [
    "# vehicle_feature.add_time_varying_attribute(\"occupancy\", \"float32\", vehicle_trip_ids,vehicle_times, occupancy)\n",
    "vehicle_feature.add_attribute(\"occupancy\", \"float32\", vehicle_trip_ids, occupancy)"
   ]
  },
  {
   "cell_type": "code",
   "execution_count": 440,
   "metadata": {},
   "outputs": [],
   "source": [
    "class OccupancyAttribute(_att.Attribute):\n",
    "    name = 'Occupancy' # this is the name displayed in the UI\n",
    "    time = _param.FloatParameter()   \n",
    "    def __init__(self):\n",
    "        _att.Attribute.__init__(self)\n",
    "        self.time = 0\n",
    "\n",
    "    def load(self, feature_data):\n",
    "        return feature_data['occupancy', self.time]\n",
    "\n",
    "# instantiate the custom attribute and set vehicle size\n",
    "vehicle_layer.radius = OccupancyAttribute()\n"
   ]
  },
  {
   "cell_type": "markdown",
   "metadata": {},
   "source": [
    "### Create animated trajectory layers"
   ]
  },
  {
   "cell_type": "code",
   "execution_count": 453,
   "metadata": {},
   "outputs": [],
   "source": [
    "vehicle_layer = _layer.AnimatedPointLayer(vehicle_feature, max_vertices = 2000000) # max_verticves is performance tunning\n",
    "vehicle_layer.name = \"DRT\"\n",
    "app.add_layer(vehicle_layer)"
   ]
  },
  {
   "cell_type": "code",
   "execution_count": 454,
   "metadata": {},
   "outputs": [],
   "source": [
    "vehicle_layer.glowing = False\n",
    "vehicle_layer.min_pixel_size = 4\n",
    "vehicle_layer.color = (0, 0, 255) # A relatively bright yellow\n",
    "app.background_color = (25, 25, 25)  # make the background black / dark gray"
   ]
  },
  {
   "cell_type": "code",
   "execution_count": 455,
   "metadata": {},
   "outputs": [],
   "source": [
    "motion_trail_layer = _layer.TrajectoryLayer(vehicle_feature, max_vertices = 2000000)\n",
    "motion_trail_layer.name = \"Motion trails\"\n",
    "app.add_layer(motion_trail_layer)\n",
    "motion_trail_layer.color = vehicle_layer.color\n",
    "motion_trail_layer.width = vehicle_layer.radius\n",
    "motion_trail_layer.priority = 6"
   ]
  },
  {
   "cell_type": "markdown",
   "metadata": {},
   "source": [
    "### Create Node layer"
   ]
  },
  {
   "cell_type": "code",
   "execution_count": 447,
   "metadata": {},
   "outputs": [],
   "source": [
    "node_ids = nds.fid.values\n",
    "points = nds[[\"X\", \"Y\", \"Z\"]].values\n",
    "\n",
    "nodes_feat = _feat.PointFeature(node_ids, points)\n",
    "node_layer = _layer.PointLayer(nodes_feat)\n",
    "node_layer.name = \"Network Nodes\"\n",
    "# app.add_layer(node_layer)"
   ]
  },
  {
   "cell_type": "markdown",
   "metadata": {},
   "source": [
    "### Create layer for pickups"
   ]
  },
  {
   "cell_type": "code",
   "execution_count": 448,
   "metadata": {},
   "outputs": [],
   "source": [
    "pax_ids = passengers.pax_id.values\n",
    "node_ids = passengers.origin.values\n",
    "pickup_feat = _feat.PointFeature.from_points(pax_ids, node_ids, nodes_feat)"
   ]
  },
  {
   "cell_type": "code",
   "execution_count": 449,
   "metadata": {},
   "outputs": [],
   "source": [
    "pickup_feat.add_attribute(\"start_time\", \"int32\", pax_ids, passengers.appeared.values)\n",
    "pickup_feat.add_attribute(\"end_time\", \"int32\", pax_ids, passengers.serviced.values)"
   ]
  },
  {
   "cell_type": "code",
   "execution_count": null,
   "metadata": {},
   "outputs": [],
   "source": []
  },
  {
   "cell_type": "code",
   "execution_count": 450,
   "metadata": {},
   "outputs": [],
   "source": [
    "pickup_layer = _layer.PointLayer(pickup_feat)\n",
    "pickup_layer.name = \"Passenger Pickups\"\n",
    "pickup_layer.height = 20\n",
    "pickup_layer.min_pixel_size = 4\n",
    "pickup_layer.stacked = True\n",
    "\n",
    "pickup_layer.start_time = _att.FeatureAttribute(\"start_time\")\n",
    "pickup_layer.end_time = _att.FeatureAttribute(\"end_time\")\n",
    "app.add_layer(pickup_layer)"
   ]
  },
  {
   "cell_type": "code",
   "execution_count": null,
   "metadata": {},
   "outputs": [],
   "source": []
  },
  {
   "cell_type": "markdown",
   "metadata": {},
   "source": [
    "Add a time slider"
   ]
  },
  {
   "cell_type": "code",
   "execution_count": 456,
   "metadata": {},
   "outputs": [],
   "source": [
    "# Set up time slider\n",
    "import datetime\n",
    "\n",
    "# Current activities\n",
    "def change_time(t):\n",
    "    vehicle_layer.time = t\n",
    "    vehicle_layer.radius.time = t\n",
    "    pickup_layer.time_window = t, t + 2\n",
    "    motion_trail_layer.time_window = (t - 0.1, t)\n",
    "    \n",
    "def format_time(t):\n",
    "    return str(datetime.timedelta(minutes=t))\n",
    "#     return \"%02d:%02d\" % (t / 60, t % 60)\n",
    "    \n",
    "time_slider = _widget.TimeSlider(90, 1440, format_time, change_time)\n",
    "app.add_widget(time_slider)\n",
    "time_slider.pause()"
   ]
  },
  {
   "cell_type": "code",
   "execution_count": 82,
   "metadata": {},
   "outputs": [],
   "source": [
    "q = traces[traces.trip_id == 100028]\n",
    "q.to_csv(join(fldr, 'q.csv'), index=False)"
   ]
  },
  {
   "cell_type": "code",
   "execution_count": null,
   "metadata": {},
   "outputs": [],
   "source": [
    "# Jump to 7:15 am to watch the vehicle animation\n",
    "# Zoom out to see the full trajectories\n",
    "time_slider.time = 435\n",
    "time_slider.play()\n",
    "app.camera.set_view({'distance': 3398.9692211802712,\n",
    "                     'rotation': (359.0, 30.0),\n",
    "                     'translation': (-13618189.092867726, 6042003.390481629)})\n"
   ]
  }
 ],
 "metadata": {
  "kernelspec": {
   "display_name": "Python 3",
   "language": "python",
   "name": "python3"
  },
  "language_info": {
   "codemirror_mode": {
    "name": "ipython",
    "version": 3
   },
   "file_extension": ".py",
   "mimetype": "text/x-python",
   "name": "python",
   "nbconvert_exporter": "python",
   "pygments_lexer": "ipython3",
   "version": "3.7.3"
  }
 },
 "nbformat": 4,
 "nbformat_minor": 2
}
