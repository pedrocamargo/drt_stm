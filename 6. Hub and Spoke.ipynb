{
 "cells": [
  {
   "cell_type": "code",
   "execution_count": 1,
   "metadata": {},
   "outputs": [],
   "source": [
    "import sys\n",
    "import os\n",
    "from time import clock, ctime\n",
    "import numpy as np\n",
    "from scipy.sparse import coo_matrix\n",
    "import sqlite3\n",
    "from os.path import join\n",
    "import pandas as pd"
   ]
  },
  {
   "cell_type": "code",
   "execution_count": 2,
   "metadata": {},
   "outputs": [],
   "source": [
    "sys.path.append('/media/pedro/storage/src/aequilibrae')\n",
    "from aequilibrae.paths import Graph, NetworkSkimming, SkimResults, PathResults, path_computation\n",
    "from aequilibrae.matrix import AequilibraeMatrix"
   ]
  },
  {
   "cell_type": "code",
   "execution_count": 3,
   "metadata": {},
   "outputs": [],
   "source": [
    "fldr = '/media/pedro/server/Pedro/Professional/VLC/Projects/Vancouver'\n",
    "aeg_pth = '/media/pedro/server/Pedro/Professional/VLC/Projects/Vancouver/Network/graph.aeg'\n",
    "trunk_distances = '/media/pedro/server/Pedro/Professional/VLC/Projects/Vancouver/Network/trunk_distances.aem'"
   ]
  },
  {
   "cell_type": "code",
   "execution_count": 4,
   "metadata": {},
   "outputs": [],
   "source": [
    "g = Graph()\n",
    "g.load_from_disk(aeg_pth)\n",
    "g.prepare_graph(g.all_nodes)\n",
    "g.set_graph(cost_field='length', skim_fields=['timau'],block_centroid_flows=False)\n",
    "\n",
    "result = SkimResults()\n",
    "result.prepare(g)\n",
    "\n",
    "skm = NetworkSkimming(g, result)\n",
    "skm.execute()"
   ]
  },
  {
   "cell_type": "code",
   "execution_count": 5,
   "metadata": {},
   "outputs": [],
   "source": [
    "trunk = AequilibraeMatrix()\n",
    "trunk.load(trunk_distances)\n",
    "aux = coo_matrix(trunk.length)\n",
    "z = int(trunk.index.max() + 1)\n",
    "\n",
    "trunk = coo_matrix((aux.data, (trunk.index[aux.row], trunk.index[aux.col])), shape=(z, z))\n",
    "trunk = trunk.toarray().astype(np.float32)"
   ]
  },
  {
   "cell_type": "code",
   "execution_count": 6,
   "metadata": {},
   "outputs": [],
   "source": [
    "# We create the sparse_matrix that we will use to generate the routing graph\n",
    "idx = result.skims.index[:]\n",
    "mat = coo_matrix(result.skims.matrix['length'])\n",
    "mat = coo_matrix((mat.data, (idx[mat.row], idx[mat.col])), shape=(int(idx.max()) + 1, int(idx.max()) + 1))\n",
    "length = mat.toarray().astype(np.float32)\n",
    "del(mat)"
   ]
  },
  {
   "cell_type": "code",
   "execution_count": 7,
   "metadata": {},
   "outputs": [],
   "source": [
    "nodelyr = sqlite3.connect(os.path.join(fldr, \"Network/final_layer.gpkg\"))\n",
    "nds = pd.read_sql_query(\"SELECT fid FROM nodes where park_and_ride=1\", nodelyr).fid.tolist()\n"
   ]
  },
  {
   "cell_type": "code",
   "execution_count": 8,
   "metadata": {},
   "outputs": [],
   "source": [
    "tripfile = sqlite3.connect(os.path.join(fldr, \"trip_table.sqlite\"))\n",
    "cur = tripfile.cursor()\n",
    "cur.execute('select distinct \"class\" from distributed_trips')\n",
    "classes = cur.fetchall()"
   ]
  },
  {
   "cell_type": "code",
   "execution_count": 26,
   "metadata": {
    "scrolled": true
   },
   "outputs": [],
   "source": [
    "closest = np.zeros_like(length)\n",
    "closest.fill(np.inf)\n",
    "\n",
    "for i in nds:\n",
    "    closest[i, :] = length[i, :]\n",
    "    closest[:, i] = length[:, i]"
   ]
  },
  {
   "cell_type": "code",
   "execution_count": 71,
   "metadata": {
    "scrolled": true
   },
   "outputs": [],
   "source": [
    "def trip_chaining(trip):\n",
    "    min_dist_to_chain = 5\n",
    "    max_perc_increase = 0.75\n",
    "    min_perc_whole_trip = 0.4\n",
    "    \n",
    "    x = trip.from_node\n",
    "    y = trip.to_node\n",
    "    t = trip.departure_minute\n",
    "    \n",
    "    dist = length[x, y]\n",
    "    \n",
    "    original_trip = [[trip.name, trip['class'], trip.flow, x, y, t]]\n",
    "    \n",
    "    if dist < min_dist_to_chain:\n",
    "        return original_trip\n",
    "    \n",
    "    a = np.argmin(closest[x, :], axis=0)\n",
    "    b = np.argmin(closest[y, :], axis=0)\n",
    "\n",
    "    access = length[x, a]\n",
    "    eggress = length[b, y]\n",
    "    middle = trunk[a, b]\n",
    "    new_tot = access + eggress + middle\n",
    "    \n",
    "    if new_tot / dist > 1 + max_perc_increase:\n",
    "        return original_trip\n",
    "    \n",
    "    if middle / new_tot < min_perc_whole_trip:\n",
    "        return original_trip\n",
    "    \n",
    "    \n",
    "    # Average of 25kh/m in minutes\n",
    "    new_t = t + ((access + middle) / 25) * 60 \n",
    "    return [[trip.name, trip['class'], trip.flow, x, a, t], \n",
    "            [trip.name, trip['class'], trip.flow, b, y, new_t]]"
   ]
  },
  {
   "cell_type": "code",
   "execution_count": 72,
   "metadata": {},
   "outputs": [
    {
     "name": "stderr",
     "output_type": "stream",
     "text": [
      "/usr/local/lib/python3.7/dist-packages/ipykernel_launcher.py:14: RuntimeWarning: invalid value encountered in less\n",
      "  \n",
      "/usr/local/lib/python3.7/dist-packages/ipykernel_launcher.py:25: RuntimeWarning: invalid value encountered in greater\n",
      "/usr/local/lib/python3.7/dist-packages/ipykernel_launcher.py:28: RuntimeWarning: invalid value encountered in less\n"
     ]
    },
    {
     "name": "stdout",
     "output_type": "stream",
     "text": [
      "CPU times: user 4.45 s, sys: 0 ns, total: 4.45 s\n",
      "Wall time: 4.44 s\n"
     ]
    }
   ],
   "source": [
    "\n",
    "\n"
   ]
  },
  {
   "cell_type": "code",
   "execution_count": 73,
   "metadata": {},
   "outputs": [
    {
     "data": {
      "text/plain": [
       "(40109, 33993)"
      ]
     },
     "execution_count": 73,
     "metadata": {},
     "output_type": "execute_result"
    }
   ],
   "source": [
    "len(all_trips), trips.shape[0]"
   ]
  },
  {
   "cell_type": "code",
   "execution_count": 89,
   "metadata": {
    "scrolled": true
   },
   "outputs": [
    {
     "name": "stdout",
     "output_type": "stream",
     "text": [
      "('Bk_pertrp_Am',)   --   Wed Jun 19 12:21:03 2019\n"
     ]
    },
    {
     "name": "stderr",
     "output_type": "stream",
     "text": [
      "/usr/local/lib/python3.7/dist-packages/ipykernel_launcher.py:14: RuntimeWarning: invalid value encountered in less\n",
      "  \n",
      "/usr/local/lib/python3.7/dist-packages/ipykernel_launcher.py:25: RuntimeWarning: invalid value encountered in greater\n",
      "/usr/local/lib/python3.7/dist-packages/ipykernel_launcher.py:28: RuntimeWarning: invalid value encountered in less\n"
     ]
    },
    {
     "name": "stdout",
     "output_type": "stream",
     "text": [
      "('Bk_pertrp_Md',)   --   Wed Jun 19 12:21:13 2019\n",
      "('Bk_pertrp_Pm',)   --   Wed Jun 19 12:21:22 2019\n"
     ]
    },
    {
     "name": "stderr",
     "output_type": "stream",
     "text": [
      "/usr/local/lib/python3.7/dist-packages/ipykernel_launcher.py:28: RuntimeWarning: invalid value encountered in float_scalars\n"
     ]
    },
    {
     "name": "stdout",
     "output_type": "stream",
     "text": [
      "('HOV_drvtrp_VOT_1_Am',)   --   Wed Jun 19 12:21:34 2019\n",
      "('HOV_drvtrp_VOT_1_Md',)   --   Wed Jun 19 12:21:55 2019\n",
      "('HOV_drvtrp_VOT_1_Pm',)   --   Wed Jun 19 12:22:10 2019\n",
      "('HOV_drvtrp_VOT_2_Am',)   --   Wed Jun 19 12:22:26 2019\n",
      "('HOV_drvtrp_VOT_2_Md',)   --   Wed Jun 19 12:22:46 2019\n",
      "('HOV_drvtrp_VOT_2_Pm',)   --   Wed Jun 19 12:23:01 2019\n",
      "('HOV_drvtrp_VOT_3_Am',)   --   Wed Jun 19 12:23:27 2019\n",
      "('HOV_drvtrp_VOT_3_Md',)   --   Wed Jun 19 12:23:41 2019\n",
      "('HOV_drvtrp_VOT_3_Pm',)   --   Wed Jun 19 12:23:57 2019\n",
      "('HOV_pertrp_VOT_1_Am',)   --   Wed Jun 19 12:24:20 2019\n",
      "('HOV_pertrp_VOT_1_Md',)   --   Wed Jun 19 12:25:07 2019\n",
      "('HOV_pertrp_VOT_1_Pm',)   --   Wed Jun 19 12:25:38 2019\n",
      "('HOV_pertrp_VOT_2_Am',)   --   Wed Jun 19 12:26:13 2019\n",
      "('HOV_pertrp_VOT_2_Md',)   --   Wed Jun 19 12:26:55 2019\n",
      "('HOV_pertrp_VOT_2_Pm',)   --   Wed Jun 19 12:27:28 2019\n",
      "('HOV_pertrp_VOT_3_Am',)   --   Wed Jun 19 12:28:22 2019\n",
      "('HOV_pertrp_VOT_3_Md',)   --   Wed Jun 19 12:28:46 2019\n",
      "('HOV_pertrp_VOT_3_Pm',)   --   Wed Jun 19 12:29:11 2019\n",
      "('SOV_drvtrp_VOT_1_Am',)   --   Wed Jun 19 12:29:52 2019\n",
      "('SOV_drvtrp_VOT_1_Md',)   --   Wed Jun 19 12:30:02 2019\n",
      "('SOV_drvtrp_VOT_1_Pm',)   --   Wed Jun 19 12:30:26 2019\n",
      "('SOV_drvtrp_VOT_2_Am',)   --   Wed Jun 19 12:30:48 2019\n",
      "('SOV_drvtrp_VOT_2_Md',)   --   Wed Jun 19 12:31:24 2019\n",
      "('SOV_drvtrp_VOT_2_Pm',)   --   Wed Jun 19 12:31:58 2019\n",
      "('SOV_drvtrp_VOT_3_Am',)   --   Wed Jun 19 12:32:51 2019\n",
      "('SOV_drvtrp_VOT_3_Md',)   --   Wed Jun 19 12:33:41 2019\n",
      "('SOV_drvtrp_VOT_3_Pm',)   --   Wed Jun 19 12:34:40 2019\n",
      "('SOV_drvtrp_VOT_4_Am',)   --   Wed Jun 19 12:35:57 2019\n",
      "('SOV_drvtrp_VOT_4_Md',)   --   Wed Jun 19 12:36:46 2019\n",
      "('SOV_drvtrp_VOT_4_Pm',)   --   Wed Jun 19 12:37:01 2019\n",
      "('SOV_pertrp_VOT_1_Am',)   --   Wed Jun 19 12:37:58 2019\n",
      "('SOV_pertrp_VOT_1_Md',)   --   Wed Jun 19 12:38:09 2019\n",
      "('SOV_pertrp_VOT_1_Pm',)   --   Wed Jun 19 12:38:35 2019\n",
      "('SOV_pertrp_VOT_2_Am',)   --   Wed Jun 19 12:39:01 2019\n",
      "('SOV_pertrp_VOT_2_Md',)   --   Wed Jun 19 12:39:43 2019\n",
      "('SOV_pertrp_VOT_2_Pm',)   --   Wed Jun 19 12:40:21 2019\n",
      "('SOV_pertrp_VOT_3_Am',)   --   Wed Jun 19 12:41:18 2019\n",
      "('SOV_pertrp_VOT_3_Md',)   --   Wed Jun 19 12:42:13 2019\n",
      "('SOV_pertrp_VOT_3_Pm',)   --   Wed Jun 19 12:43:06 2019\n",
      "('SOV_pertrp_VOT_4_Am',)   --   Wed Jun 19 12:44:25 2019\n",
      "('SOV_pertrp_VOT_4_Md',)   --   Wed Jun 19 12:45:17 2019\n",
      "('SOV_pertrp_VOT_4_Pm',)   --   Wed Jun 19 12:45:33 2019\n",
      "('WCEAm',)   --   Wed Jun 19 12:46:30 2019\n",
      "('WCEPm',)   --   Wed Jun 19 12:46:38 2019\n",
      "('Wk_pertrp_Am',)   --   Wed Jun 19 12:46:46 2019\n",
      "('Wk_pertrp_Md',)   --   Wed Jun 19 12:47:25 2019\n",
      "('Wk_pertrp_Pm',)   --   Wed Jun 19 12:47:53 2019\n",
      "('busAm',)   --   Wed Jun 19 12:48:27 2019\n",
      "('busMd',)   --   Wed Jun 19 12:48:57 2019\n",
      "('busPm',)   --   Wed Jun 19 12:49:17 2019\n",
      "('railAm',)   --   Wed Jun 19 12:49:50 2019\n",
      "('railMd',)   --   Wed Jun 19 12:50:29 2019\n",
      "('railPm',)   --   Wed Jun 19 12:50:51 2019\n",
      "CPU times: user 21min 58s, sys: 27.8 s, total: 22min 26s\n",
      "Wall time: 30min 34s\n"
     ]
    }
   ],
   "source": [
    "%%time\n",
    "\n",
    "outdb = sqlite3.connect(os.path.join(fldr, 'connected_trips.sqlite'))\n",
    "outdb.execute('drop table if exists trips')\n",
    "for c in classes:\n",
    "    print(c, \"  --  \", ctime())\n",
    "    trips = pd.read_sql_query('SELECT * FROM distributed_trips where \"class\"=\"{}\"'.format(c[0]), tripfile)\n",
    "    trips.drop(['index'], axis=1, inplace=True)\n",
    "    all_trips = []\n",
    "    for trip in trips.iterrows():\n",
    "        all_trips.extend(trip_chaining(trip[1]))\n",
    "\n",
    "    df = pd.DataFrame(all_trips, columns = ['orig_trip_fid', 'class', 'flow', 'from_node', \n",
    "                                            'to_node', 'departure_minute'])\n",
    "    df.to_sql('trips', outdb, if_exists='append')"
   ]
  }
 ],
 "metadata": {
  "kernelspec": {
   "display_name": "Python 3",
   "language": "python",
   "name": "python3"
  },
  "language_info": {
   "codemirror_mode": {
    "name": "ipython",
    "version": 3
   },
   "file_extension": ".py",
   "mimetype": "text/x-python",
   "name": "python",
   "nbconvert_exporter": "python",
   "pygments_lexer": "ipython3",
   "version": "3.7.3"
  }
 },
 "nbformat": 4,
 "nbformat_minor": 2
}
