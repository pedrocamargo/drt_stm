{
 "cells": [
  {
   "cell_type": "code",
   "execution_count": 1,
   "metadata": {},
   "outputs": [],
   "source": [
    "import sys\n",
    "import os\n",
    "import numpy as np\n",
    "from scipy.sparse import coo_matrix\n",
    "import sqlite3\n",
    "from os.path import join\n",
    "import pandas as pd"
   ]
  },
  {
   "cell_type": "code",
   "execution_count": 52,
   "metadata": {},
   "outputs": [],
   "source": [
    "sys.path.append('C:\\\\Users\\\\pedro.camargo\\\\Documents\\\\sourcecode\\\\aequilibrae')\n",
    "from aequilibrae.paths import Graph, NetworkSkimming, SkimResults, PathResults, path_computation"
   ]
  },
  {
   "cell_type": "code",
   "execution_count": 3,
   "metadata": {},
   "outputs": [],
   "source": [
    "fldr = 'C:/D/Projects/Vancouver/'\n",
    "aeg_pth = 'C:/D/Projects/Vancouver/Network/graph.aeg'"
   ]
  },
  {
   "cell_type": "code",
   "execution_count": 13,
   "metadata": {},
   "outputs": [],
   "source": [
    "g = Graph()\n",
    "g.load_from_disk(aeg_pth)\n",
    "g.prepare_graph(g.all_nodes)\n",
    "g.set_graph(cost_field='timau', skim_fields=['length'],block_centroid_flows=False)\n",
    "\n",
    "result = SkimResults()\n",
    "result.prepare(g)\n",
    "\n",
    "skm = NetworkSkimming(g, result)\n",
    "skm.execute()"
   ]
  },
  {
   "cell_type": "code",
   "execution_count": 16,
   "metadata": {},
   "outputs": [],
   "source": [
    "# We create the sparse_matrix that we will use to generate the routing graph\n",
    "idx = result.skims.index[:]\n",
    "mat = coo_matrix(result.skims.matrix['timau'])\n",
    "mat = coo_matrix((mat.data, (idx[mat.row], idx[mat.col])), shape=(int(idx.max()) + 1, int(idx.max()) + 1))\n",
    "timau = mat.toarray()"
   ]
  },
  {
   "cell_type": "code",
   "execution_count": 17,
   "metadata": {},
   "outputs": [],
   "source": [
    "# We create the sparse_matrix that we will use to generate the routing graph\n",
    "idx = result.skims.index[:]\n",
    "mat = coo_matrix(result.skims.matrix['length'])\n",
    "mat = coo_matrix((mat.data, (idx[mat.row], idx[mat.col])), shape=(int(idx.max()) + 1, int(idx.max()) + 1))\n",
    "length = mat.toarray()"
   ]
  },
  {
   "cell_type": "code",
   "execution_count": 7,
   "metadata": {},
   "outputs": [],
   "source": [
    "nodelyr = sqlite3.connect(os.path.join(fldr, \"Network/final_layer.gpkg\"))\n",
    "nds = pd.read_sql_query(\"SELECT fid FROM nodes where park_and_ride=1\", nodelyr).fid.tolist()\n"
   ]
  },
  {
   "cell_type": "code",
   "execution_count": 84,
   "metadata": {},
   "outputs": [],
   "source": [
    "g = Graph()\n",
    "g.load_from_disk(aeg_pth)\n",
    "lid = g.network['link_id'].max() + 1\n",
    "links = []\n",
    "a1 = []\n",
    "a2 = []\n",
    "a3 = []\n",
    "a4 = []\n",
    "a5 = []\n",
    "\n",
    "for i in nds:\n",
    "    for j in nds:\n",
    "        a1.append(lid)\n",
    "        a2.append(i)\n",
    "        a3.append(j)\n",
    "        a4.append(length[i, j] / 1.5)\n",
    "        a5.append(timau[i, j] / 1.5)\n",
    "        \n",
    "        links.append((lid, i, j, 1, lgt, lgt, timau, timau))\n",
    "        lid += 1\n",
    "\n",
    "        \n",
    "new_links = np.zeros(len(links), dtype=g.network.dtype )\n",
    "new_links['link_id'][:] = np.array(a1)[:]\n",
    "new_links['a_node'][:] = np.array(a2)[:]\n",
    "new_links['b_node'][:] = np.array(a3)[:]\n",
    "new_links['direction'].fill(1)\n",
    "new_links['length_ab'][:] = np.array(a4)[:]\n",
    "new_links['length_ba'][:] = np.array(a4)[:]\n",
    "new_links['timau_ab'][:] = np.array(a5)[:]\n",
    "new_links['timau_ba'][:] = np.array(a5)[:]\n"
   ]
  },
  {
   "cell_type": "code",
   "execution_count": 85,
   "metadata": {},
   "outputs": [],
   "source": [
    "g.network = np.hstack((new_links,g.network))\n",
    "g.prepare_graph(g.centroids)\n",
    "g.num_links = g.graph.shape[0]"
   ]
  },
  {
   "cell_type": "code",
   "execution_count": 86,
   "metadata": {},
   "outputs": [
    {
     "data": {
      "text/plain": [
       "True"
      ]
     },
     "execution_count": 86,
     "metadata": {},
     "output_type": "execute_result"
    }
   ],
   "source": [
    "g.set_graph(cost_field='timau', skim_fields=[],block_centroid_flows=False)\n",
    "\n",
    "# result = SkimResults()\n",
    "# result.prepare(g)\n",
    "\n",
    "# skm = NetworkSkimming(g, result)\n",
    "# skm.execute()"
   ]
  },
  {
   "cell_type": "code",
   "execution_count": 87,
   "metadata": {},
   "outputs": [],
   "source": [
    "r = PathResults()\n",
    "r.prepare(g)"
   ]
  },
  {
   "cell_type": "code",
   "execution_count": 94,
   "metadata": {},
   "outputs": [
    {
     "name": "stdout",
     "output_type": "stream",
     "text": [
      "Wall time: 5min 34s\n"
     ]
    }
   ],
   "source": [
    "%%time\n",
    "nds = np.array(nds)\n",
    "hns = []\n",
    "for i in g.centroids:\n",
    "    path_computation(i, i, g, r)\n",
    "    for j in g.centroids:\n",
    "        r.update_trace(g, int(j))\n",
    "        \n",
    "        nzr = np.nonzero(np.in1d(r.path_nodes, nds))[0]\n",
    "        if nzr.shape[0] >= 2:\n",
    "            if timau[nzr[0], nzr[-1]] > r.milepost[-1] * 0.75:\n",
    "                nzr = r.path_nodes[nzr]\n",
    "                hns.append([i, j, nzr[0], nzr[-1]])"
   ]
  },
  {
   "cell_type": "code",
   "execution_count": 95,
   "metadata": {},
   "outputs": [
    {
     "data": {
      "text/plain": [
       "1019126"
      ]
     },
     "execution_count": 95,
     "metadata": {},
     "output_type": "execute_result"
    }
   ],
   "source": [
    "len(hns)"
   ]
  },
  {
   "cell_type": "code",
   "execution_count": 83,
   "metadata": {},
   "outputs": [
    {
     "data": {
      "text/plain": [
       "3031081"
      ]
     },
     "execution_count": 83,
     "metadata": {},
     "output_type": "execute_result"
    }
   ],
   "source": [
    "len(g.centroids)**2"
   ]
  },
  {
   "cell_type": "code",
   "execution_count": 93,
   "metadata": {},
   "outputs": [
    {
     "data": {
      "text/plain": [
       "2430632"
      ]
     },
     "execution_count": 93,
     "metadata": {},
     "output_type": "execute_result"
    }
   ],
   "source": [
    "len(hns)"
   ]
  },
  {
   "cell_type": "code",
   "execution_count": null,
   "metadata": {},
   "outputs": [],
   "source": [
    "from aequilibrae import reserved_fields\n",
    "\n",
    "k = Graph()\n",
    "\n",
    "all_types = [k._Graph__integer_type, \n",
    "             k._Graph__integer_type, \n",
    "             k._Graph__integer_type, \n",
    "             np.int8,\n",
    "             k._Graph__float_type,\n",
    "             k._Graph__float_type]\n",
    "\n",
    "all_titles = [reserved_fields.link_id, \n",
    "              reserved_fields.a_node, \n",
    "              reserved_fields.b_node, \n",
    "              reserved_fields.direction,\n",
    "             \"time_ab\",\n",
    "             \"time_ba\"]\n",
    "\n",
    "dt = [(t, d) for t, d in zip(all_titles, all_types)]"
   ]
  },
  {
   "cell_type": "code",
   "execution_count": null,
   "metadata": {},
   "outputs": [],
   "source": [
    "links = mat.data.shape[0]\n",
    "k.network = np.zeros(links, dtype=dt)"
   ]
  },
  {
   "cell_type": "code",
   "execution_count": null,
   "metadata": {},
   "outputs": [],
   "source": [
    "k.network[reserved_fields.link_id] = np.arange(links) + 1\n",
    "k.network[reserved_fields.a_node] = mat.row\n",
    "k.network[reserved_fields.b_node] = mat.col\n",
    "k.network[reserved_fields.direction] = np.ones(links)\n",
    "k.network[\"time_ab\"] = mat.data\n",
    "k.network[\"time_ba\"] = mat.data * 10000\n",
    "\n",
    "k.type_loaded = 'NETWORK'\n",
    "k.status = 'OK'\n",
    "k.network_ok = True\n",
    "k.prepare_graph(idx)\n",
    "del mat"
   ]
  },
  {
   "cell_type": "code",
   "execution_count": null,
   "metadata": {},
   "outputs": [],
   "source": [
    "k.num_links = k.graph.shape[0]"
   ]
  },
  {
   "cell_type": "code",
   "execution_count": null,
   "metadata": {},
   "outputs": [],
   "source": [
    "k.set_graph(cost_field='time', skim_fields=[],block_centroid_flows=False)\n",
    "hns = SkimResults()\n",
    "hns.set_cores(2)\n",
    "hns.prepare(k)\n",
    "\n",
    "skm2 = NetworkSkimming(k, hns)\n",
    "skm2.execute()"
   ]
  },
  {
   "cell_type": "code",
   "execution_count": null,
   "metadata": {},
   "outputs": [],
   "source": []
  }
 ],
 "metadata": {
  "kernelspec": {
   "display_name": "Python 3",
   "language": "python",
   "name": "python3"
  },
  "language_info": {
   "codemirror_mode": {
    "name": "ipython",
    "version": 3
   },
   "file_extension": ".py",
   "mimetype": "text/x-python",
   "name": "python",
   "nbconvert_exporter": "python",
   "pygments_lexer": "ipython3",
   "version": "3.6.4"
  }
 },
 "nbformat": 4,
 "nbformat_minor": 2
}
