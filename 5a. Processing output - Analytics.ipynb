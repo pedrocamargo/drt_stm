{
 "cells": [
  {
   "cell_type": "code",
   "execution_count": 4,
   "metadata": {},
   "outputs": [],
   "source": [
    "import sqlite3\n",
    "import pandas as pd\n",
    "import numpy as np\n",
    "import pyproj as _proj\n",
    "import os\n",
    "from  os.path import join"
   ]
  },
  {
   "cell_type": "markdown",
   "metadata": {},
   "source": [
    "## Collect the DRT results for simulation"
   ]
  },
  {
   "cell_type": "code",
   "execution_count": 5,
   "metadata": {},
   "outputs": [],
   "source": [
    "fldr = '/media/pedro/storage/GDrive/DATA/Pedro/Professional/VLC/Projects/Vancouver/'\n",
    "\n",
    "simul_fldr = os.path.join(fldr, 'SIMULATIONS/trunk and feeder')\n",
    "\n",
    "log = os.path.join(simul_fldr,'experiment_list.log')"
   ]
  },
  {
   "cell_type": "code",
   "execution_count": 21,
   "metadata": {
    "scrolled": true
   },
   "outputs": [
    {
     "name": "stdout",
     "output_type": "stream",
     "text": [
      "3-0-10\n",
      "3-0-15\n",
      "3-0-20\n",
      "3-0-25\n",
      "3-0-30\n",
      "3-2-10\n",
      "3-2-15\n",
      "3-2-20\n",
      "3-2-25\n",
      "3-2-30\n",
      "3-4-10\n",
      "3-4-15\n",
      "3-4-20\n",
      "3-4-25\n",
      "3-4-30\n",
      "3-6-10\n",
      "3-6-15\n",
      "3-6-20\n",
      "3-6-25\n",
      "3-6-30\n",
      "3-8-10\n",
      "3-8-15\n",
      "3-8-20\n",
      "3-8-25\n",
      "3-8-30\n",
      "3-10-10\n",
      "3-10-15\n",
      "3-10-20\n",
      "3-10-25\n",
      "3-10-30\n",
      "4-0-10\n",
      "4-0-15\n",
      "4-0-20\n",
      "4-0-25\n",
      "4-0-30\n",
      "4-2-10\n",
      "4-2-15\n",
      "4-2-20\n",
      "4-2-25\n",
      "4-2-30\n",
      "4-4-10\n",
      "4-4-15\n",
      "4-4-20\n",
      "4-4-25\n",
      "4-4-30\n",
      "4-6-10\n",
      "4-6-15\n",
      "4-6-20\n",
      "4-6-25\n",
      "4-6-30\n"
     ]
    }
   ],
   "source": [
    "links = link_data()\n",
    "pax_agg_kpi = [['VehicleCapacity', 'detour', 'TimeWindow','Metric','Value']]\n",
    "traces_agg_kpi = [['VehicleCapacity', 'detour', 'TimeWindow','Metric','Value']]\n",
    "for i in open(log, 'r').readlines():\n",
    "    if i[0].isdigit():\n",
    "        print (i.rstrip())\n",
    "        a = collect_data(os.path.join(simul_fldr,  \"bus_passengers_\" + i.rstrip() + '.sqlite'))\n",
    "        vc, det, tw = i.rstrip().split(\"-\")\n",
    "        for metric, value in pax_statistics(a):\n",
    "            pax_agg_kpi.append([str(vc), str(det), str(tw), str(metric), str(value)])\n",
    "        \n",
    "        for metric, value in trace_statistics(a, links):\n",
    "            traces_agg_kpi.append([str(vc), str(det), str(tw), str(metric), str(value)])\n",
    "        "
   ]
  },
  {
   "cell_type": "code",
   "execution_count": 22,
   "metadata": {},
   "outputs": [],
   "source": [
    "with open(os.path.join(fldr, 'SIMULATIONS/trunk and feeder/passenger_metrics.csv'), 'w') as p:\n",
    "    for l in pax_agg_kpi:\n",
    "        p.write(','.join(l) + '\\n')\n",
    "\n",
    "with open(os.path.join(fldr, 'SIMULATIONS/trunk and feeder/trace_metrics.csv'), 'w') as p:\n",
    "    for l in traces_agg_kpi:\n",
    "        p.write(','.join(l) + '\\n')"
   ]
  },
  {
   "cell_type": "code",
   "execution_count": 14,
   "metadata": {},
   "outputs": [],
   "source": [
    "class dt:\n",
    "    def __init__(self):\n",
    "        traces = None\n",
    "        pax = None\n",
    "        events = None\n",
    "        \n",
    "def collect_data(file, items=['pax', 'traces', 'events']):\n",
    "    a = dt()\n",
    "    results = sqlite3.connect(file)\n",
    "    \n",
    "    st = 7.5 * 3600\n",
    "    nd = 8.5 * 3600\n",
    "    pax_qry = 'select * from passengers where required_pickup >={} AND required_pickup <{}'.format(st,nd)\n",
    "    traces_qry = 'select * from vehicle_traces where instant >={} AND instant <{}'.format(st,nd)\n",
    "    events_qry = 'select * from events'\n",
    "    if 'traces' in items:\n",
    "        traces = pd.read_sql(traces_qry, results)\n",
    "        traces.sort_values(by=['vehicle_id', 'instant'], inplace=True)\n",
    "        a.traces = traces\n",
    "    if 'pax' in items:\n",
    "        pax = pd.read_sql(pax_qry, results)\n",
    "        a.pax = pax\n",
    "    return a\n",
    "    "
   ]
  },
  {
   "cell_type": "code",
   "execution_count": 12,
   "metadata": {},
   "outputs": [],
   "source": [
    "def pax_statistics(data):\n",
    "    pax_data = data.pax.assign(detour=data.pax.actual_travel_time - a.pax.expected_travel_time)\n",
    "    \n",
    "    p = pax_data.shape[0]\n",
    "    metrics = [('total passengers', p)]\n",
    "    metrics.append(('total pax.h detour', round(pax_data.detour.sum()/3600, 2)))\n",
    "    metrics.append(('Average pax.h detour', round(pax_data.detour.sum()/(3600 * p), 4)))\n",
    "    s = pax_data.extra_stops.sum()\n",
    "    metrics.append(('Total extra passenger stops', s))\n",
    "    metrics.append(('Average extra stops per passenger', round(s/p, 3)))\n",
    "    return metrics"
   ]
  },
  {
   "cell_type": "code",
   "execution_count": 6,
   "metadata": {},
   "outputs": [],
   "source": [
    "def link_data():\n",
    "    lineslyr = sqlite3.connect(join(fldr, \"Network/final_layer.gpkg\"))\n",
    "    links = pd.read_sql_query(\"SELECT LENGTH, A_Node, B_Node FROM links\", lineslyr)\n",
    "    links = links.assign(link = links.A_Node * 10000 + links.B_Node)\n",
    "    links.loc[:, 'link'] = links.link.values.astype(np.int32)[:]\n",
    "    return links"
   ]
  },
  {
   "cell_type": "code",
   "execution_count": 20,
   "metadata": {},
   "outputs": [],
   "source": [
    "def trace_statistics(data, links):\n",
    "    metrics = []\n",
    "    traces = data.traces\n",
    "    \n",
    "    traces = traces.assign(to_node = traces.node_id.shift(-1))\n",
    "    traces = traces.assign(to_veh_id = traces.vehicle_id.shift(-1))\n",
    "    traces.loc[traces.to_veh_id != traces.vehicle_id,'to_node'] = np.nan\n",
    "    traces = traces.assign(link = traces.node_id * 10000 + traces.to_node)\n",
    "    traces.loc[:, 'link'] = traces.link.values.astype(np.int32)[:]\n",
    "    traces.dropna(inplace=True)\n",
    "\n",
    "    with_distances = traces.merge(links, on='link')\n",
    "    with_distances.LENGTH.isna().any()\n",
    "    \n",
    "    empty = with_distances.loc[with_distances.occupancy==0, 'LENGTH'].sum()\n",
    "    metrics.append(['Dead heading', empty])\n",
    "    metrics.append(['Total Veh.km', with_distances.LENGTH.sum()])\n",
    "    \n",
    "    mx_oc = traces.occupancy.max()\n",
    "    metrics.append(['Maximum occupancy',mx_oc])\n",
    "    \n",
    "    length_full = with_distances.loc[with_distances.occupancy==mx_oc, 'LENGTH'].sum()\n",
    "    metrics.append(['Veh.km with maximum occupancy',length_full])\n",
    "    \n",
    "    return metrics\n"
   ]
  }
 ],
 "metadata": {
  "kernelspec": {
   "display_name": "Python 3",
   "language": "python",
   "name": "python3"
  },
  "language_info": {
   "codemirror_mode": {
    "name": "ipython",
    "version": 3
   },
   "file_extension": ".py",
   "mimetype": "text/x-python",
   "name": "python",
   "nbconvert_exporter": "python",
   "pygments_lexer": "ipython3",
   "version": "3.7.3"
  }
 },
 "nbformat": 4,
 "nbformat_minor": 2
}
